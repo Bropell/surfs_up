{
 "cells": [
  {
   "cell_type": "code",
   "execution_count": 1,
   "metadata": {
    "nbgrader": {
     "grade": false,
     "grade_id": "cell-ce43e917c058e1e6",
     "locked": true,
     "schema_version": 1,
     "solution": false
    }
   },
   "outputs": [],
   "source": [
    "# Ignore SQLITE warnings related to Decimal numbers in the Chinook database\n",
    "\n",
    "import warnings\n",
    "warnings.filterwarnings('ignore')"
   ]
  },
  {
   "cell_type": "code",
   "execution_count": 2,
   "metadata": {
    "nbgrader": {
     "grade": false,
     "grade_id": "cell-5a901ed15fb6e525",
     "locked": false,
     "schema_version": 1,
     "solution": true
    }
   },
   "outputs": [],
   "source": [
    "# Import Dependencies\n",
    "\n",
    "import sqlalchemy\n",
    "from sqlalchemy.ext.automap import automap_base\n",
    "from sqlalchemy.orm import Session\n",
    "from sqlalchemy import create_engine, func, MetaData, Table"
   ]
  },
  {
   "cell_type": "markdown",
   "metadata": {},
   "source": [
    "### Using SQLAlchemy ORM to reflect and map the tables¶"
   ]
  },
  {
   "cell_type": "code",
   "execution_count": 3,
   "metadata": {
    "nbgrader": {
     "grade": false,
     "grade_id": "cell-3061988562b57cdd",
     "locked": false,
     "schema_version": 1,
     "solution": true
    }
   },
   "outputs": [],
   "source": [
    "# Create an engine for the chinook.sqlite database\n",
    "\n",
    "engine = create_engine(\"sqlite:///../Resources/chinook.sqlite\")"
   ]
  },
  {
   "cell_type": "code",
   "execution_count": 4,
   "metadata": {
    "nbgrader": {
     "grade": false,
     "grade_id": "cell-96fcd4f8590fa08d",
     "locked": false,
     "schema_version": 1,
     "solution": true
    }
   },
   "outputs": [
    {
     "data": {
      "text/plain": [
       "['albums',\n",
       " 'artists',\n",
       " 'customers',\n",
       " 'employees',\n",
       " 'genres',\n",
       " 'invoice_items',\n",
       " 'invoices',\n",
       " 'tracks',\n",
       " 'media_types',\n",
       " 'playlists']"
      ]
     },
     "execution_count": 4,
     "metadata": {},
     "output_type": "execute_result"
    }
   ],
   "source": [
    "# Reflect Database into ORM classes\n",
    "\n",
    "Base = automap_base()\n",
    "Base.prepare(engine,reflect=True)\n",
    "Base.classes.keys()"
   ]
  },
  {
   "cell_type": "code",
   "execution_count": 5,
   "metadata": {
    "nbgrader": {
     "grade": false,
     "grade_id": "cell-b94d91b48824b4bd",
     "locked": false,
     "schema_version": 1,
     "solution": true
    }
   },
   "outputs": [],
   "source": [
    "# Save a reference to the invoices table as `Invoices`\n",
    "\n",
    "Invoices = Base.classes.invoices"
   ]
  },
  {
   "cell_type": "code",
   "execution_count": 6,
   "metadata": {},
   "outputs": [],
   "source": [
    "# Save a reference to the invoice_items table as `Items`\n",
    "\n",
    "Items = Base.classes.invoice_items"
   ]
  },
  {
   "cell_type": "markdown",
   "metadata": {},
   "source": [
    "### Use the Metadata and Table object to describe the table and columns."
   ]
  },
  {
   "cell_type": "code",
   "execution_count": 7,
   "metadata": {},
   "outputs": [],
   "source": [
    "#  Create a meta data object to hold the reflected table schema\n",
    "\n",
    "metadata = MetaData()"
   ]
  },
  {
   "cell_type": "code",
   "execution_count": 8,
   "metadata": {},
   "outputs": [],
   "source": [
    "# Create a table object for  the `invoices` and `invoice_items` tables\n",
    "# use 'autoload' and 'autoload_with' to define the columns from the table. \n",
    "\n",
    "Invoices_table = Table('invoices', metadata, autoload=True, autoload_with=engine)"
   ]
  },
  {
   "cell_type": "code",
   "execution_count": 9,
   "metadata": {},
   "outputs": [
    {
     "name": "stdout",
     "output_type": "stream",
     "text": [
      "['InvoiceLineId', 'InvoiceId', 'TrackId', 'UnitPrice', 'Quantity']\n"
     ]
    }
   ],
   "source": [
    "# Get the column names using the 'column.keys()' methods on the table object. \n",
    "InvoiceItem_table = Table('invoice_items', metadata, autoload=True, autoload_with=engine)\n",
    "print(InvoiceItem_table.columns.keys())"
   ]
  },
  {
   "cell_type": "markdown",
   "metadata": {},
   "source": [
    "### Use Python to query the tables. "
   ]
  },
  {
   "cell_type": "code",
   "execution_count": 10,
   "metadata": {
    "nbgrader": {
     "grade": false,
     "grade_id": "cell-691d1378e207458c",
     "locked": false,
     "schema_version": 1,
     "solution": true
    }
   },
   "outputs": [],
   "source": [
    "# Create a database session object\n",
    "\n",
    "session = Session(engine)"
   ]
  },
  {
   "cell_type": "code",
   "execution_count": 11,
   "metadata": {
    "nbgrader": {
     "grade": false,
     "grade_id": "cell-88cce17ddb8934fb",
     "locked": false,
     "schema_version": 1,
     "solution": true
    }
   },
   "outputs": [
    {
     "name": "stdout",
     "output_type": "stream",
     "text": [
      "('Germany',)\n",
      "('Norway',)\n",
      "('Belgium',)\n",
      "('Canada',)\n",
      "('USA',)\n",
      "('France',)\n",
      "('Ireland',)\n",
      "('United Kingdom',)\n",
      "('Australia',)\n",
      "('Chile',)\n",
      "('India',)\n",
      "('Brazil',)\n",
      "('Portugal',)\n",
      "('Netherlands',)\n",
      "('Spain',)\n",
      "('Sweden',)\n",
      "('Czech Republic',)\n",
      "('Finland',)\n",
      "('Denmark',)\n",
      "('Italy',)\n",
      "('Poland',)\n",
      "('Austria',)\n",
      "('Hungary',)\n",
      "('Argentina',)\n"
     ]
    }
   ],
   "source": [
    "# List all of the countries found in the invoices table\n",
    "\n",
    "results = session.query(Invoices.BillingCountry).distinct().all()\n",
    "for result in results:\n",
    "    print(result)"
   ]
  },
  {
   "cell_type": "code",
   "execution_count": 12,
   "metadata": {
    "nbgrader": {
     "grade": false,
     "grade_id": "cell-4feed124c0f54f43",
     "locked": false,
     "schema_version": 1,
     "solution": true
    }
   },
   "outputs": [
    {
     "data": {
      "text/plain": [
       "[('Argentina', Decimal('37.62')),\n",
       " ('Australia', Decimal('37.62')),\n",
       " ('Austria', Decimal('42.62')),\n",
       " ('Belgium', Decimal('37.62')),\n",
       " ('Brazil', Decimal('190.10')),\n",
       " ('Canada', Decimal('303.96')),\n",
       " ('Chile', Decimal('46.62')),\n",
       " ('Czech Republic', Decimal('90.24')),\n",
       " ('Denmark', Decimal('37.62')),\n",
       " ('Finland', Decimal('41.62')),\n",
       " ('France', Decimal('195.10')),\n",
       " ('Germany', Decimal('156.48')),\n",
       " ('Hungary', Decimal('45.62')),\n",
       " ('India', Decimal('75.26')),\n",
       " ('Ireland', Decimal('45.62')),\n",
       " ('Italy', Decimal('37.62')),\n",
       " ('Netherlands', Decimal('40.62')),\n",
       " ('Norway', Decimal('39.62')),\n",
       " ('Poland', Decimal('37.62')),\n",
       " ('Portugal', Decimal('77.24')),\n",
       " ('Spain', Decimal('37.62')),\n",
       " ('Sweden', Decimal('38.62')),\n",
       " ('USA', Decimal('523.06')),\n",
       " ('United Kingdom', Decimal('112.86'))]"
      ]
     },
     "execution_count": 12,
     "metadata": {},
     "output_type": "execute_result"
    }
   ],
   "source": [
    "# Design a query that lists the invoices totals for each billing country \n",
    "# and sort the output in descending order.\n",
    "\n",
    "session.query(Invoices.BillingCountry, func.sum(Invoices.Total)).group_by(Invoices.BillingCountry).order_by().all()"
   ]
  },
  {
   "cell_type": "code",
   "execution_count": 13,
   "metadata": {
    "nbgrader": {
     "grade": false,
     "grade_id": "cell-0a9629333439cef4",
     "locked": false,
     "schema_version": 1,
     "solution": true
    }
   },
   "outputs": [
    {
     "data": {
      "text/plain": [
       "[('10012-2612',),\n",
       " ('2113',),\n",
       " ('32801',),\n",
       " ('53703',),\n",
       " ('60611',),\n",
       " ('76110',),\n",
       " ('84102',),\n",
       " ('85719',),\n",
       " ('89503',),\n",
       " ('94040-111',),\n",
       " ('94043-1351',),\n",
       " ('95014',),\n",
       " ('98052-8300',)]"
      ]
     },
     "execution_count": 13,
     "metadata": {},
     "output_type": "execute_result"
    }
   ],
   "source": [
    "# List all of the Billing Postal Codes for the USA.\n",
    "\n",
    "results = session.query(Invoices.BillingPostalCode).\\\n",
    "    filter(Invoices.BillingCountry == 'USA').group_by(Invoices.BillingPostalCode).all()\n",
    "results"
   ]
  },
  {
   "cell_type": "code",
   "execution_count": 14,
   "metadata": {
    "nbgrader": {
     "grade": false,
     "grade_id": "cell-a2cbfd30ace44821",
     "locked": false,
     "schema_version": 1,
     "solution": true
    }
   },
   "outputs": [
    {
     "data": {
      "text/plain": [
       "[(Decimal('523.06'),)]"
      ]
     },
     "execution_count": 14,
     "metadata": {},
     "output_type": "execute_result"
    }
   ],
   "source": [
    "# Calculate the Item Totals (sum(UnitPrice * Quantity)) for the USA\n",
    "\n",
    "session.query(func.sum(Items.Quantity*Items.UnitPrice)).\\\n",
    "where((Invoices.InvoiceId == Items.InvoiceId) & (Invoices.BillingCountry == 'USA')).all()"
   ]
  },
  {
   "cell_type": "code",
   "execution_count": 15,
   "metadata": {
    "nbgrader": {
     "grade": false,
     "grade_id": "cell-04614f479d1ab21b",
     "locked": false,
     "schema_version": 1,
     "solution": true
    }
   },
   "outputs": [
    {
     "data": {
      "text/plain": [
       "[(Decimal('47.62'), '76110'),\n",
       " (Decimal('43.62'), '60611'),\n",
       " (Decimal('43.62'), '84102'),\n",
       " (Decimal('42.62'), '53703'),\n",
       " (Decimal('39.62'), '94040-111'),\n",
       " (Decimal('39.62'), '98052-8300'),\n",
       " (Decimal('39.62'), '32801'),\n",
       " (Decimal('38.62'), '95014'),\n",
       " (Decimal('37.62'), '94043-1351'),\n",
       " (Decimal('37.62'), '89503'),\n",
       " (Decimal('37.62'), '85719'),\n",
       " (Decimal('37.62'), '2113'),\n",
       " (Decimal('37.62'), '10012-2612')]"
      ]
     },
     "execution_count": 15,
     "metadata": {},
     "output_type": "execute_result"
    }
   ],
   "source": [
    "# Calculate the Item Totals `sum(UnitPrice * Quantity)` for each Billing Postal Code in the USA\n",
    "# Sort the results in descending order by Total\n",
    "\n",
    "session.query(func.sum(Items.Quantity*Items.UnitPrice), Invoices.BillingPostalCode)\\\n",
    ".where((Invoices.InvoiceId == Items.InvoiceId) & (Invoices.BillingCountry == 'USA')).group_by(Invoices.BillingPostalCode)\\\n",
    ".order_by(func.sum(Items.Quantity*Items.UnitPrice).desc()).all()"
   ]
  },
  {
   "cell_type": "code",
   "execution_count": null,
   "metadata": {},
   "outputs": [],
   "source": []
  }
 ],
 "metadata": {
  "celltoolbar": "Create Assignment",
  "kernelspec": {
   "display_name": "PythonData",
   "language": "python",
   "name": "pythondata"
  },
  "language_info": {
   "codemirror_mode": {
    "name": "ipython",
    "version": 3
   },
   "file_extension": ".py",
   "mimetype": "text/x-python",
   "name": "python",
   "nbconvert_exporter": "python",
   "pygments_lexer": "ipython3",
   "version": "3.7.13"
  },
  "varInspector": {
   "cols": {
    "lenName": 16,
    "lenType": 16,
    "lenVar": 40
   },
   "kernels_config": {
    "python": {
     "delete_cmd_postfix": "",
     "delete_cmd_prefix": "del ",
     "library": "var_list.py",
     "varRefreshCmd": "print(var_dic_list())"
    },
    "r": {
     "delete_cmd_postfix": ") ",
     "delete_cmd_prefix": "rm(",
     "library": "var_list.r",
     "varRefreshCmd": "cat(var_dic_list()) "
    }
   },
   "types_to_exclude": [
    "module",
    "function",
    "builtin_function_or_method",
    "instance",
    "_Feature"
   ],
   "window_display": false
  }
 },
 "nbformat": 4,
 "nbformat_minor": 2
}
